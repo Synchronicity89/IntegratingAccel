{
 "cells": [
  {
   "cell_type": "code",
   "execution_count": 5,
   "metadata": {},
   "outputs": [
    {
     "name": "stdout",
     "output_type": "stream",
     "text": [
      "Orbital period in seconds: 35196873981.528366\n",
      "Orbital period in days: 407371.2266380598\n"
     ]
    }
   ],
   "source": [
    "from math import pi, sqrt\n",
    "def MilesToMeters(miles):\n",
    "    return miles * 1.609 * (10 ** 3)\n",
    "\n",
    "# throw an error if 1 mile does not equal 1609 meters\n",
    "assert MilesToMeters(1) == 1609\n",
    "# Constants\n",
    "G = 6.674 * (10 ** -11)  # Gravitational constant in m^3 kg^-1 s^-2\n",
    "M = 1.989 * (10 ** 30)   # Mass of the Sun in kg\n",
    "a_miles = 10.00001 * (10 ** 9)  # Semi-major axis in billion miles\n",
    "a_meters = MilesToMeters(a_miles)  # Convert to meters\n",
    "\n",
    "# Calculating orbital period T\n",
    "T = 2 * pi * sqrt(( a_meters**3) / (G * M))\n",
    "print(\"Orbital period in seconds:\", T)\n",
    "print(\"Orbital period in days:\", T / (60 * 60 * 24))"
   ]
  },
  {
   "cell_type": "code",
   "execution_count": 8,
   "metadata": {},
   "outputs": [
    {
     "name": "stdout",
     "output_type": "stream",
     "text": [
      "The orbital period of the Earth around the Sun is approximately 31554187.75 seconds.\n",
      "The orbital period of the Earth around the Sun is approximately 365.21 days.\n"
     ]
    }
   ],
   "source": [
    "# Gravitational constant\n",
    "G = 6.67430e-11 # m³ kg⁻¹ s⁻²\n",
    "\n",
    "# Mass of the Sun\n",
    "M = 1.989e30 # kg\n",
    "\n",
    "# Semi-major axis of Earth's orbit\n",
    "a = 149.6e9 # m\n",
    "\n",
    "# Calculate the orbital period\n",
    "T = 2 * pi * sqrt(a**3 / (G * M))\n",
    "\n",
    "print(f\"The orbital period of the Earth around the Sun is approximately {T:.2f} seconds.\")\n",
    "# print the orbital period in days\n",
    "print(f\"The orbital period of the Earth around the Sun is approximately {T / (60 * 60 * 24):.2f} days.\")\n"
   ]
  },
  {
   "cell_type": "code",
   "execution_count": 10,
   "metadata": {},
   "outputs": [
    {
     "name": "stdout",
     "output_type": "stream",
     "text": [
      "The orbital period of the Asteroid around the Sun is approximately 1115.65 years.\n",
      "The orbital period of the Asteroid around the Sun is approximately 407491.20 days.\n"
     ]
    }
   ],
   "source": [
    "import math\n",
    "\n",
    "# Constants\n",
    "G = 6.67430e-11  # Gravitational constant in m^3 kg^-1 s^-2\n",
    "M_sun = 1.989e30  # Mass of the Sun in kg\n",
    "\n",
    "# Semi-major axis in miles, converting to meters (1 mile = 1609.34 meters)\n",
    "a_miles = 10.00001e9  # 10.00001 billion miles\n",
    "a_meters = a_miles * 1609.34  # Convert to meters\n",
    "\n",
    "# Calculating the orbital period using Kepler's Third Law\n",
    "T_seconds = 2 * math.pi * math.sqrt(a_meters**3 / (G * M_sun))\n",
    "\n",
    "# Convert the period from seconds to years for better understanding (1 year ≈ 365.25 days)\n",
    "T_years = T_seconds / (365.25 * 24 * 60 * 60)\n",
    "# print the orbital period in days\n",
    "print(f\"The orbital period of the Asteroid around the Sun is approximately {T_years:.2f} years.\")\n",
    "# print the orbital period in days\n",
    "print(f\"The orbital period of the Asteroid around the Sun is approximately {T_years * 365.25:.2f} days.\")\n",
    "\n",
    "\n"
   ]
  },
  {
   "cell_type": "code",
   "execution_count": null,
   "metadata": {},
   "outputs": [],
   "source": []
  }
 ],
 "metadata": {
  "kernelspec": {
   "display_name": "LangChain",
   "language": "python",
   "name": "python3"
  },
  "language_info": {
   "codemirror_mode": {
    "name": "ipython",
    "version": 3
   },
   "file_extension": ".py",
   "mimetype": "text/x-python",
   "name": "python",
   "nbconvert_exporter": "python",
   "pygments_lexer": "ipython3",
   "version": "3.10.13"
  }
 },
 "nbformat": 4,
 "nbformat_minor": 2
}
